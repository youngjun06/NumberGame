{
 "cells": [
  {
   "cell_type": "code",
   "execution_count": 1,
   "id": "2787c1b7",
   "metadata": {},
   "outputs": [
    {
     "name": "stdout",
     "output_type": "stream",
     "text": [
      "pygame 2.6.1 (SDL 2.28.4, Python 3.13.5)\n",
      "Hello from the pygame community. https://www.pygame.org/contribute.html\n"
     ]
    },
    {
     "data": {
      "text/plain": [
       "(5, 0)"
      ]
     },
     "execution_count": 1,
     "metadata": {},
     "output_type": "execute_result"
    }
   ],
   "source": [
    "import pygame\n",
    "pygame.init()"
   ]
  },
  {
   "cell_type": "code",
   "execution_count": 2,
   "id": "65cf8258",
   "metadata": {},
   "outputs": [],
   "source": [
    "width, height = 360, 640\n",
    "screen = pygame.display.set_mode((width, height))\n",
    "pygame.display.set_caption(\"Break Out\")\n",
    "clock = pygame.time.Clock()"
   ]
  },
  {
   "cell_type": "code",
   "execution_count": 3,
   "id": "a9dda6b2",
   "metadata": {},
   "outputs": [],
   "source": [
    "title_font = pygame.font.SysFont(\"showcardgothic\", 45, False, False)\n",
    "any_font = pygame.font.SysFont(None, 30, False, False)\n",
    "start_font = pygame.font.SysFont(None, 100)"
   ]
  },
  {
   "cell_type": "code",
   "execution_count": 4,
   "id": "c9ee067c",
   "metadata": {},
   "outputs": [],
   "source": [
    "start_button = pygame.Rect(width // 2 - 80, height // 2, 160, 50)\n",
    "recode_button = pygame.Rect(width // 2 - 80, height // 2 + 80, 160, 50)"
   ]
  },
  {
   "cell_type": "code",
   "execution_count": 5,
   "id": "a6571b06",
   "metadata": {},
   "outputs": [
    {
     "ename": "NameError",
     "evalue": "name 'pygame' is not defined",
     "output_type": "error",
     "traceback": [
      "\u001b[31m---------------------------------------------------------------------------\u001b[39m",
      "\u001b[31mNameError\u001b[39m                                 Traceback (most recent call last)",
      "\u001b[36mCell\u001b[39m\u001b[36m \u001b[39m\u001b[32mIn[5]\u001b[39m\u001b[32m, line 5\u001b[39m\n\u001b[32m      3\u001b[39m recode_look = \u001b[38;5;28;01mFalse\u001b[39;00m\n\u001b[32m      4\u001b[39m \u001b[38;5;28;01mwhile\u001b[39;00m running:\n\u001b[32m----> \u001b[39m\u001b[32m5\u001b[39m     \u001b[38;5;28;01mfor\u001b[39;00m event \u001b[38;5;129;01min\u001b[39;00m \u001b[43mpygame\u001b[49m.event.get():\n\u001b[32m      6\u001b[39m         \u001b[38;5;28;01mif\u001b[39;00m event.type == pygame.QUIT:\n\u001b[32m      7\u001b[39m             running = \u001b[38;5;28;01mFalse\u001b[39;00m\n",
      "\u001b[31mNameError\u001b[39m: name 'pygame' is not defined"
     ]
    }
   ],
   "source": [
    "running = True\n",
    "game_start = False\n",
    "recode_look = False\n",
    "while running:\n",
    "    for event in pygame.event.get():\n",
    "        if event.type == pygame.QUIT:\n",
    "            running = False\n",
    "            \n",
    "        elif event.type == pygame.MOUSEBUTTONDOWN:\n",
    "            if not game_start and start_button.collidepoint(event.pos):\n",
    "                game_start  = True\n",
    "            if not recode_look and recode_button.collidepoint(event.pos):\n",
    "                recode_look = True\n",
    "    \n",
    "    # start\n",
    "    screen.fill((250, 250, 250))\n",
    "\n",
    "    if not game_start:\n",
    "        # Title\n",
    "        title_text = title_font.render(\"<Break Out>\", True, (0, 0, 0))\n",
    "        title_rect = title_text.get_rect(center=(width // 2, height // 2 - 180))\n",
    "        screen.blit(title_text, title_rect)\n",
    "\n",
    "        # start button\n",
    "        pygame.draw.ellipse(screen, (255, 0, 0), start_button)\n",
    "        start_button_text = any_font.render(\"Start\", True, (255, 255, 255))\n",
    "        start_button_rect = start_button_text.get_rect(center=(start_button.center))\n",
    "        screen.blit(start_button_text, start_button_rect)\n",
    "\n",
    "        # recode button\n",
    "        pygame.draw.ellipse(screen, (100, 100, 100), recode_button)\n",
    "        recode_button_text = any_font.render(\"Recode\", True, (255, 255, 255))\n",
    "        recode_button_rect = recode_button_text.get_rect(center=(recode_button.center))\n",
    "        screen.blit(recode_button_text, recode_button_rect)\n",
    "\n",
    "    elif game_start is True: \n",
    "        # Click start button\n",
    "        game_text = start_font.render(\"START\", True, (150, 150, 150))\n",
    "        game_rect = game_text.get_rect(center=(width // 2, height // 2 - 70))\n",
    "        screen.blit(game_text, game_rect)\n",
    "\n",
    "    elif recode_look is True:\n",
    "        # Click recode button\n",
    "        recode_text = title_font.render(\"Recode\", True, (0, 0, 0))\n",
    "        recode_rect = recode_text.get_rect(center=(width // 2, 20))\n",
    "        screen.blit(recode_text, recode_rect)\n",
    "\n",
    "    pygame.display.flip()\n",
    "    clock.tick(60)\n",
    "\n",
    "pygame.quit()\n"
   ]
  }
 ],
 "metadata": {
  "kernelspec": {
   "display_name": "Python 3",
   "language": "python",
   "name": "python3"
  },
  "language_info": {
   "codemirror_mode": {
    "name": "ipython",
    "version": 3
   },
   "file_extension": ".py",
   "mimetype": "text/x-python",
   "name": "python",
   "nbconvert_exporter": "python",
   "pygments_lexer": "ipython3",
   "version": "3.13.5"
  }
 },
 "nbformat": 4,
 "nbformat_minor": 5
}
